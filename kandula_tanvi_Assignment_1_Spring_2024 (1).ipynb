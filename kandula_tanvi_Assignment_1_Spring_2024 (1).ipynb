{
  "cells": [
    {
      "cell_type": "markdown",
      "metadata": {
        "id": "view-in-github"
      },
      "source": [
        "<a href=\"https://colab.research.google.com/github/unt-iialab/INFO5731_Spring2020/blob/master/Assignments/INFO5731_Assignment_One.ipynb\" target=\"_parent\"><img src=\"https://colab.research.google.com/assets/colab-badge.svg\" alt=\"Open In Colab\"/></a>"
      ]
    },
    {
      "cell_type": "markdown",
      "metadata": {
        "id": "Ryk8D1Q4Wsrp"
      },
      "source": [
        "# **INFO5731 Assignment One**"
      ]
    },
    {
      "cell_type": "markdown",
      "metadata": {
        "id": "qcP6re2g5A5r"
      },
      "source": [
        "This assignment includes range of programming tasks and data analysis exercises, aiming to enhance your Python skills and proficiency in string manipulation, numerical computations, and data science. Follow the instructions carefully and design well-structured Python programs to address each question.\n",
        "\n",
        "Late Submission will have a penalty of 10% reduction for each day after the deadline."
      ]
    },
    {
      "cell_type": "markdown",
      "metadata": {
        "id": "JkzR8cFAyGik"
      },
      "source": [
        "# Question 1 (10 points).\n",
        "\n",
        "The formula that describes the volume V of a hemisphere with radius r is the following:\n",
        "\n",
        "$ V=\\frac{2}{3}\\ast\\ \\pi\\ast\\ r^3 $\n",
        "\n",
        "Write a program to calculate the value of V when r is in the range of even numbers from 1-20. Output the result in the following format:\n",
        "\n",
        "\tr\tV\n",
        "\t2\t…\n",
        "\t4\t…\n",
        "\t6\t…\n",
        "\t.\n",
        "\t.\n",
        "\t.\n",
        "\t20\t…\n"
      ]
    },
    {
      "cell_type": "code",
      "execution_count": null,
      "metadata": {
        "colab": {
          "base_uri": "https://localhost:8080/"
        },
        "id": "jDyTKYs-yGit",
        "outputId": "67fb7784-676c-4be8-f74b-3cc50af084b7"
      },
      "outputs": [
        {
          "output_type": "stream",
          "name": "stdout",
          "text": [
            "r    V\n",
            "------------\n",
            " 2   16.76\n",
            " 4   134.04\n",
            " 6   452.39\n",
            " 8   1072.33\n",
            "10   2094.40\n",
            "12   3619.11\n",
            "14   5747.02\n",
            "16   8578.64\n",
            "18   12214.51\n",
            "20   16755.16\n"
          ]
        }
      ],
      "source": [
        "import math\n",
        "\n",
        "def calculate_hemisphere_volume(radius):\n",
        "\n",
        "    return (2/3) * math.pi * radius**3\n",
        "\n",
        "print(\"r    V\")\n",
        "print(\"-\" * 12)\n",
        "\n",
        "for r in range(2, 21, 2):\n",
        "    volume = calculate_hemisphere_volume(r)\n",
        "    print(f\"{r:2d}   {volume:.2f}\")\n",
        "\n",
        "\n"
      ]
    },
    {
      "cell_type": "markdown",
      "metadata": {
        "id": "90_NR8c5XGWc"
      },
      "source": [
        "# Question 2 (20 points)\n",
        "\n",
        "(a) Write a Python program to generate a sequence of 12 random numbers falling within the range of 50 to 150.\n",
        "\n",
        "(b) Arrange the generated numbers in ascending order. Display the sorted list.\n",
        "\n",
        "(c) Extend the program to arrange the numbers in descending order as well. Present the sorted list accordingly.\n",
        "\n",
        "(d) Compute and output the average of the entire group of generated numbers.\n",
        "\n",
        "(e) Enhance the program to calculate and display the average of the first 6 numbers from both the ascending and descending sorted lists."
      ]
    },
    {
      "cell_type": "code",
      "execution_count": null,
      "metadata": {
        "colab": {
          "base_uri": "https://localhost:8080/"
        },
        "id": "5QX6bJjGWXY9",
        "outputId": "ce63c36e-c24f-4280-beac-0cf859c5de91"
      },
      "outputs": [
        {
          "output_type": "stream",
          "name": "stdout",
          "text": [
            "Generated random numbers: [82, 106, 91, 127, 132, 122, 84, 90, 129, 107, 143, 123]\n",
            "Sorted random numbers: [62, 63, 87, 87, 93, 96, 97, 112, 113, 129, 132, 144]\n",
            "Sorted in ascending order: [62, 63, 87, 87, 93, 96, 97, 112, 113, 129, 132, 144]\n",
            "Sorted in descending order: [144, 132, 129, 113, 112, 97, 96, 93, 87, 87, 63, 62]\n",
            "Average of the generated numbers: 101.83\n",
            "Average of the first 6 numbers from the ascending sorted list: 81.33333333333333\n",
            "Average of the first 6 numbers from the descending sorted list: 121.16666666666667\n"
          ]
        }
      ],
      "source": [
        "#(a) Write a Python program to generate a sequence of 12 random numbers falling within the range of 50 to 150.\n",
        "import random\n",
        "\n",
        "def generate_random_numbers(num):\n",
        "    return [random.randint(50, 150) for _ in range(num)]\n",
        "\n",
        "random_numbers = generate_random_numbers(12)\n",
        "\n",
        "print(\"Generated random numbers:\", random_numbers)\n",
        "#Answer: Generated random numbers: [113, 96, 93, 63, 132, 144, 112, 62, 87, 97, 87, 129]\n",
        "\n",
        "\n",
        "#(b) Arrange the generated numbers in ascending order. Display the sorted list.\n",
        "random_numbers = [62, 63, 87, 87, 93, 96, 97, 112, 113, 129, 132, 144]\n",
        "\n",
        "sorted_numbers = sorted(random_numbers)\n",
        "\n",
        "print(f\"Sorted random numbers: {sorted_numbers}\")\n",
        "#Answer: Sorted random numbers: [62, 63, 87, 87, 93, 96, 97, 112, 113, 129, 132, 144]\n",
        "\n",
        "\n",
        "#(c) Extend the program to arrange the numbers in descending order as well. Present the sorted list accordingly.\n",
        "random_numbers = [113, 96, 93, 63, 132, 144, 112, 62, 87, 97, 87, 129]\n",
        "sorted_ascending = sorted(random_numbers)\n",
        "sorted_descending = sorted(random_numbers, reverse=True)\n",
        "\n",
        "print(f\"Sorted in ascending order: {sorted_ascending}\")\n",
        "print(f\"Sorted in descending order: {sorted_descending}\")\n",
        "#Answer: Sorted in ascending order: [62, 63, 87, 87, 93, 96, 97, 112, 113, 129, 132, 144]\n",
        "#Answer: Sorted in descending order: [144, 132, 129, 113, 112, 97, 96, 93, 87, 87, 63, 62]\n",
        "\n",
        "\n",
        "#(d)Compute and output the average of the entire group of generated numbers.\n",
        "numbers = [150, 55, 73, 55, 115, 130, 66, 130, 78, 143, 108, 119]\n",
        "average = sum(numbers) / len(numbers)\n",
        "\n",
        "print(f\"Average of the generated numbers: {average:.2f}\")\n",
        "# Answer: Average of the generated numbers: 101.67\n",
        "\n",
        "\n",
        "\n",
        "#(e) Enhance the program to calculate and display the average of the first 6 numbers from both the ascending and descending sorted lists.\n",
        "ascending_sorted = [62, 63, 87, 87, 93, 96, 97, 112, 113, 129, 132, 144]\n",
        "descending_sorted = [144, 132, 129, 113, 112, 97, 96, 93, 87, 87, 63, 62]\n",
        "\n",
        "average_first_6_ascending = sum(ascending_sorted[:6]) / 6\n",
        "print(\"Average of the first 6 numbers from the ascending sorted list:\", average_first_6_ascending)\n",
        "\n",
        "average_first_6_descending = sum(descending_sorted[:6]) / 6\n",
        "print(\"Average of the first 6 numbers from the descending sorted list:\", average_first_6_descending)\n",
        "#Answer: Average of the generated numbers: 101.83\n",
        "#Average of the first 6 numbers from the ascending sorted list: 81.33333333333333\n",
        "#Average of the first 6 numbers from the descending sorted list: 121.16666666666667\n",
        "\n",
        "\n",
        "\n",
        "\n",
        "\n",
        "\n",
        "\n",
        "\n"
      ]
    },
    {
      "cell_type": "markdown",
      "metadata": {
        "id": "1F_PZdH9Sh49"
      },
      "source": [
        "# Question 3 (20 points).\n",
        "\n",
        "Create a Python program that encompasses various string manipulation task:\n",
        "\n",
        "(a) Prompt the user to input two sentences.\n",
        "\n",
        "(b) Transform each sentence into a list, where each element corresponds to a word in the sentence. For example, if the sentences are \"Hello, how are you doing today?\" and \"This is an example sentence for the program!\"\n",
        "\n",
        "The program should output:\n",
        "['Hello', ',', 'how', 'are', 'you', 'doing', 'today', '?', 'This', 'is', 'an', 'example', 'sentence', 'for', 'the', 'program', '!']\n",
        "\n",
        "(c) Compare the two sentences. Print out a list of words that occur in both sentences.\n",
        "\n",
        "(d) Remove any punctuation from the sentence and print the sanitized sentences. It should remove at least the following characters, but it can remove more: period(“.”), comma (“,”), semicolon (“;”), and colon (“:”).\n",
        "\n",
        "(e) Count the number of vowels in each of the sentences. Print out each vowel and the occurrences  in the each of the two sentences separately, such as:\n",
        "\n",
        "Sentence1: a:2, e:2, i:0, etc.\n",
        "Sentence2: a:1, e:2, i:2, etc.\n",
        "\n",
        "Design a well-structured Python program to execute these tasks efficiently."
      ]
    },
    {
      "cell_type": "code",
      "execution_count": null,
      "metadata": {
        "colab": {
          "base_uri": "https://localhost:8080/"
        },
        "id": "Y0oOSlsOS0cq",
        "outputId": "16cd94c5-5918-4b36-d2ce-ba4411ab7f01"
      },
      "outputs": [
        {
          "output_type": "stream",
          "name": "stdout",
          "text": [
            "Enter the first sentence: my name is Tanvi\n",
            "Enter the second sentence: Tanvi is learning python\n",
            "Combined list of words:\n",
            "['my', 'name', 'is', 'Tanvi', 'Tanvi', 'is', 'learning', 'python']\n",
            "\n",
            "Common words in both sentences:\n",
            "['Tanvi', 'is']\n",
            "\n",
            "Sanitized sentences:\n",
            "Sentence 1: my name is Tanvi\n",
            "Sentence 2: Tanvi is learning python\n",
            "{'a': 2, 'e': 1, 'i': 2, 'o': 0, 'u': 0}\n",
            "{'a': 2, 'e': 1, 'i': 3, 'o': 1, 'u': 0}\n"
          ]
        }
      ],
      "source": [
        "# (a) Prompt the user to input two sentences.\n",
        "sentence1 = input(\"Enter the first sentence: \")\n",
        "sentence2 = input(\"Enter the second sentence: \")\n",
        "\n",
        "# (b) Transform each sentence into a list of words.\n",
        "def split_sentence_into_words(sentence):\n",
        "    words = sentence.split()\n",
        "    return words\n",
        "words1 = split_sentence_into_words(sentence1)\n",
        "words2 = split_sentence_into_words(sentence2)\n",
        "combined_words = words1 + words2\n",
        "print(\"Combined list of words:\")\n",
        "print(combined_words)\n",
        "\n",
        "# (c) Compare the two sentences and print common words.\n",
        "common_words = set(words1) & set(words2)\n",
        "print(\"\\nCommon words in both sentences:\")\n",
        "print(list(common_words))\n",
        "\n",
        "# (d) Remove punctuation from the sentences.\n",
        "def remove_punctuation(sentence):\n",
        "    sanitized_sentence = sentence.replace(\".\", \"\").replace(\",\", \"\").replace(\";\", \"\").replace(\":\", \"\")\n",
        "    return sanitized_sentence\n",
        "\n",
        "# Sanitize sentences\n",
        "sanitized_sentence1 = remove_punctuation(sentence1)\n",
        "sanitized_sentence2 = remove_punctuation(sentence2)\n",
        "print(\"\\nSanitized sentences:\")\n",
        "print(\"Sentence 1:\", sanitized_sentence1)\n",
        "print(\"Sentence 2:\", sanitized_sentence2)\n",
        "\n",
        "#e\n",
        "def voweldictionary(sen):\n",
        "  vowels = \"aeiou\"\n",
        "  vowel_dict = {vowel: sen.lower().count(vowel) for vowel in vowels}\n",
        "  return vowel_dict\n",
        "print(voweldictionary(sentence1))\n",
        "print(voweldictionary(sentence2))\n",
        "\n",
        "\n"
      ]
    },
    {
      "cell_type": "markdown",
      "metadata": {
        "id": "OP4-5qxAtInv"
      },
      "source": [
        "# Question 4 (20 Points)"
      ]
    },
    {
      "cell_type": "markdown",
      "metadata": {
        "id": "uzN4_hDptK9U"
      },
      "source": [
        "Design and implement a simple command-line calculator program. The program should handle both integers and floating-point numbers.\n",
        "\n",
        "(a) Write program that takes a mathematical expression as input and evaluates it. The program should support addition, subtraction, multiplication, and division.\n",
        "\n",
        "(b) Extend the calculator to handle parentheses in mathematical expressions. Implement the necessary logic to evaluate expressions with nested parentheses.\n",
        "\n",
        "(c) Enhance your calculator to include additional mathematical operations such as exponentiation, square root, and modulus.\n",
        "\n",
        "(d) Implement error handling in the calculator program. Handle cases such as division by zero and invalid input expressions. Provide meaningful error messages.\n",
        "\n",
        "(e) Implement a command to exit the calculator."
      ]
    },
    {
      "cell_type": "code",
      "execution_count": 11,
      "metadata": {
        "colab": {
          "base_uri": "https://localhost:8080/"
        },
        "id": "8nQnVxjJuYtu",
        "outputId": "92bb6545-62c9-44c2-ec86-e415d9abc709"
      },
      "outputs": [
        {
          "output_type": "stream",
          "name": "stdout",
          "text": [
            "Welcome to the Simple Calculator!\n",
            "Supported operations: +, -, *, /\n",
            "Type 'exit' to quit.\n",
            "Enter a mathematical expression: 5+4\n",
            "Result: 9\n",
            "Enter a mathematical expression: 5*4\n",
            "Result: 20\n",
            "Enter a mathematical expression: exit\n",
            "Exiting the calculator. Goodbye!\n",
            "Welcome to the Enhanced Calculator!\n",
            "Supported operations: +, -, *, /, parentheses\n",
            "Type 'exit' to quit.\n",
            "Enter a mathematical expression: 5+4/10\n",
            "Result: 5.4\n",
            "Enter a mathematical expression: exit\n",
            "Exiting the calculator. Goodbye!\n",
            "Welcome to the Enhanced Calculator!\n",
            "Supported operations: +, -, *, /, ^ (exponentiation), sqrt (square root), % (modulus)\n",
            "Type 'exit' to quit.\n",
            "Enter a mathematical expression: 5^2\n",
            "Result: 7\n",
            "Enter a mathematical expression: exit\n",
            "Exiting the calculator. Goodbye!\n",
            "Welcome to the Enhanced Calculator!\n",
            "Supported operations: +, -, *, /, ^ (exponentiation), sqrt (square root), % (modulus)\n",
            "Type 'exit' to quit.\n",
            "Enter a mathematical expression: exit\n",
            "Exiting the calculator. Goodbye!\n",
            "Welcome to the Enhanced Calculator!\n",
            "Supported operations: +, -, *, /, ^ (exponentiation), sqrt (square root), % (modulus)\n",
            "Type 'exit' to quit.\n",
            "Enter a mathematical expression: exit\n",
            "Exiting the calculator. Goodbye!\n"
          ]
        }
      ],
      "source": [
        "# (a) Write program that takes a mathematical expression as input and evaluates it.\n",
        "#The program should support addition, subtraction, multiplication, and division.\n",
        "\n",
        "def evaluate_expression(expression):\n",
        "    try:\n",
        "        result = eval(expression)\n",
        "        return result\n",
        "    except ZeroDivisionError:\n",
        "        return \"Error: Division by zero\"\n",
        "    except Exception as e:\n",
        "        return f\"Error: {e}\"\n",
        "\n",
        "def main():\n",
        "    print(\"Welcome to the Simple Calculator!\")\n",
        "    print(\"Supported operations: +, -, *, /\")\n",
        "    print(\"Type 'exit' to quit.\")\n",
        "\n",
        "    while True:\n",
        "        user_input = input(\"Enter a mathematical expression: \")\n",
        "\n",
        "        if user_input.lower() == \"exit\":\n",
        "            print(\"Exiting the calculator. Goodbye!\")\n",
        "            break\n",
        "\n",
        "        result = evaluate_expression(user_input)\n",
        "        print(f\"Result: {result}\")\n",
        "\n",
        "if __name__ == \"__main__\":\n",
        "    main()\n",
        "\n",
        "\n",
        "# (b) Extend the calculator to handle parentheses in mathematical expressions.\n",
        "# Implement the necessary logic to evaluate expressions with nested parentheses.\n",
        "\n",
        "def evaluate_expression(expression):\n",
        "    try:\n",
        "        result = eval(expression)\n",
        "        return result\n",
        "    except ZeroDivisionError:\n",
        "        return \"Error: Division by zero\"\n",
        "    except Exception as e:\n",
        "        return f\"Error: {e}\"\n",
        "\n",
        "def main():\n",
        "    print(\"Welcome to the Enhanced Calculator!\")\n",
        "    print(\"Supported operations: +, -, *, /, parentheses\")\n",
        "    print(\"Type 'exit' to quit.\")\n",
        "\n",
        "    while True:\n",
        "        user_input = input(\"Enter a mathematical expression: \")\n",
        "\n",
        "        if user_input.lower() == \"exit\":\n",
        "            print(\"Exiting the calculator. Goodbye!\")\n",
        "            break\n",
        "        result = evaluate_expression(user_input)\n",
        "        print(f\"Result: {result}\")\n",
        "\n",
        "if __name__ == \"__main__\":\n",
        "    main()\n",
        "\n",
        "#(c) Enhance your calculator to include additional mathematical operations such as exponentiation,\n",
        "#square root, and modulus.\n",
        "\n",
        "import math\n",
        "\n",
        "def evaluate_expression(expression):\n",
        "    try:\n",
        "        result = eval(expression)\n",
        "        return result\n",
        "    except ZeroDivisionError:\n",
        "        return \"Error: Division by zero\"\n",
        "    except Exception as e:\n",
        "        return f\"Error: {e}\"\n",
        "\n",
        "def main():\n",
        "    print(\"Welcome to the Enhanced Calculator!\")\n",
        "    print(\"Supported operations: +, -, *, /, ^ (exponentiation), sqrt (square root), % (modulus)\")\n",
        "    print(\"Type 'exit' to quit.\")\n",
        "\n",
        "    while True:\n",
        "        user_input = input(\"Enter a mathematical expression: \")\n",
        "\n",
        "        if user_input.lower() == \"exit\":\n",
        "            print(\"Exiting the calculator. Goodbye!\")\n",
        "            break\n",
        "        result = evaluate_expression(user_input)\n",
        "        print(f\"Result: {result}\")\n",
        "\n",
        "if __name__ == \"__main__\":\n",
        "    main()\n",
        "\n",
        "\n",
        "# (d) Implement error handling in the calculator program.\n",
        "# Handle cases such as division by zero and invalid input expressions.\n",
        "#Provide meaningful error messages\n",
        "\n",
        "import math\n",
        "\n",
        "def evaluate_expression(expression):\n",
        "    try:\n",
        "        result = eval(expression)\n",
        "        return result\n",
        "    except ZeroDivisionError:\n",
        "        return \"Error: Division by zero\"\n",
        "    except ValueError:\n",
        "        return \"Error: Invalid input expression\"\n",
        "    except Exception as e:\n",
        "        return f\"Error: {e}\"\n",
        "\n",
        "def main():\n",
        "    print(\"Welcome to the Enhanced Calculator!\")\n",
        "    print(\"Supported operations: +, -, *, /, ^ (exponentiation), sqrt (square root), % (modulus)\")\n",
        "    print(\"Type 'exit' to quit.\")\n",
        "\n",
        "    while True:\n",
        "        user_input = input(\"Enter a mathematical expression: \")\n",
        "\n",
        "        if user_input.lower() == \"exit\":\n",
        "            print(\"Exiting the calculator. Goodbye!\")\n",
        "            break\n",
        "        result = evaluate_expression(user_input)\n",
        "        print(f\"Result: {result}\")\n",
        "\n",
        "if __name__ == \"__main__\":\n",
        "    main()\n",
        "\n",
        "#(e) Implement a command to exit the calculator.\n",
        "\n",
        "import math\n",
        "\n",
        "def evaluate_expression(expression):\n",
        "    try:\n",
        "        result = eval(expression)\n",
        "        return result\n",
        "    except ZeroDivisionError:\n",
        "        return \"Error: Division by zero\"\n",
        "    except ValueError:\n",
        "        return \"Error: Invalid input expression\"\n",
        "    except Exception as e:\n",
        "        return f\"Error: {e}\"\n",
        "\n",
        "def main():\n",
        "    print(\"Welcome to the Enhanced Calculator!\")\n",
        "    print(\"Supported operations: +, -, *, /, ^ (exponentiation), sqrt (square root), % (modulus)\")\n",
        "    print(\"Type 'exit' to quit.\")\n",
        "\n",
        "    while True:\n",
        "        user_input = input(\"Enter a mathematical expression: \")\n",
        "\n",
        "        if user_input.lower() == \"exit\":\n",
        "            print(\"Exiting the calculator. Goodbye!\")\n",
        "            break\n",
        "\n",
        "        result = evaluate_expression(user_input)\n",
        "        print(f\"Result: {result}\")\n",
        "\n",
        "if __name__ == \"__main__\":\n",
        "    main()\n"
      ]
    },
    {
      "cell_type": "markdown",
      "metadata": {
        "id": "z3tBE7E-Xn5X"
      },
      "source": [
        "# Question 5 (30 points).\n",
        "\n",
        "In the field of Data Science, data is often formatted as a comma-delimited (CSV) file, where each line in a file corresponds to a field's value. Refer to Chapter 9 (p. 106) for more information on comma-delimited files.\n",
        "\n",
        "To answer this question, you will need to download the file [Assignment1_denton_housing.csv](https://raw.githubusercontent.com/unt-iialab/info5731-spring2022/main/assignments/Assignment1_denton_housing.csv) included with this assignment. The file contains statistics about housing in the city of Denton from 2008 to 2014. Write a program to implement the following questions.\n",
        "\n",
        "(a) (5 pts) Calculate the difference in the number of Occupied Housing Units from year to year and print it. The difference must be calculated for the consecutive years such as 2008-2009, 2009-2010 etc. Finally, print the values in the ascending order.\n",
        "\n",
        "(b) (5 pts) For all the years, calculate the percentage of housing units which are vacant an occupied. Print the results in the following format:\n",
        "\n",
        "Year Vacant Housing Units Occupied Housing Units\n",
        "\n",
        "    2008  30%   70%                          \n",
        "\t2009 ----- -----\n",
        "\t2010 ----- -----\n",
        "    2011 ----- -----\n",
        "\t2012 ----- -----\n",
        "    2013 ----- -----\n",
        "\t2014 ----- -----\n",
        "  \n",
        "  \n",
        "\n",
        "(c) (10 pts) Calculate and print the valued and years in which the highest number of housing units were vacant and occupied. Print the results in the following format:  \n",
        "\n",
        "                              Year\tValue\n",
        "\tVacant Housing Units\t  -----   -----\n",
        "\tOccupied Housing Units\t-----   -----\n",
        "\n",
        "(d) (10 pts) Calculate the harmonic mean of the total housing units and print it out. You can find the information about harmonic mean here: https://ncalculators.com/statistics/harmonic-mean-calculator.htm"
      ]
    },
    {
      "cell_type": "code",
      "execution_count": 12,
      "metadata": {
        "id": "lqGYuHBhcsRH",
        "colab": {
          "base_uri": "https://localhost:8080/"
        },
        "outputId": "35d44f95-8aac-44fe-cabf-f5a8655e9f0c"
      },
      "outputs": [
        {
          "output_type": "stream",
          "name": "stdout",
          "text": [
            "    year             title_field  value\n",
            "2   2014  Occupied Housing Units  46295\n",
            "5   2013  Occupied Housing Units  43673\n",
            "8   2012  Occupied Housing Units  42108\n",
            "11  2011  Occupied Housing Units  40704\n",
            "14  2010  Occupied Housing Units  41007\n",
            "17  2009  Occupied Housing Units  35916\n",
            "20  2008  Occupied Housing Units  36711\n",
            "{2014: 1, 2013: 1, 2012: 1, 2011: 1, 2010: 1, 2009: 1, 2008: 1}\n",
            "2014    6%    94%\n",
            "2013    9%    91%\n",
            "2012    7%    93%\n",
            "2011    9%    91%\n",
            "2010    8%    92%\n",
            "2009    9%    91%\n",
            "2008    11%    89%\n",
            "Vacant Housing Units      2014     2814\n",
            "Occupied Housing Units    2014     46295\n",
            "Vacant Housing Units      2013     4215\n",
            "Occupied Housing Units    2013     43673\n",
            "Vacant Housing Units      2012     3013\n",
            "Occupied Housing Units    2012     42108\n",
            "Vacant Housing Units      2011     4213\n",
            "Occupied Housing Units    2011     40704\n",
            "Vacant Housing Units      2010     3635\n",
            "Occupied Housing Units    2010     41007\n",
            "Vacant Housing Units      2009     3583\n",
            "Occupied Housing Units    2009     35916\n",
            "Vacant Housing Units      2008     4483\n",
            "Occupied Housing Units    2008     36711\n",
            "year\n",
            "2008    41194\n",
            "2009    39499\n",
            "2010    44642\n",
            "2011    44917\n",
            "2012    45121\n",
            "2013    47888\n",
            "2014    49109\n",
            "Name: value, dtype: int64\n",
            "44398.28543969185\n"
          ]
        }
      ],
      "source": [
        " # Your code here\n",
        "#a\n",
        "import pandas as pd\n",
        "# Read the CSV file into a DataFrame\n",
        "df = pd.read_csv('Assignment1_denton_housing.csv')\n",
        "# Sort the DataFrame based on the 'year' column\n",
        "df_sort = df.sort_values('year')\n",
        "# Filter rows where 'title_field' is 'Occupied Housing Units'\n",
        "df_sorted=df[df['title_field'] == 'Occupied Housing Units']\n",
        "print(df_sorted)\n",
        "# Create a dictionary to store the count of occupied housing units for each year\n",
        "dicti={}\n",
        "for i in range(len(df_sorted)):\n",
        "  val=df_sorted.iloc[i]['year']\n",
        "  if val in dicti:\n",
        "    dicti[val]+=1\n",
        "  else:\n",
        "    dicti[val]=1\n",
        "print(dicti)\n",
        "# Calculate the absolute difference in the number of occupied housing units between consecutive years\n",
        "lis=list(dicti.values())\n",
        "val=[]\n",
        "for i in range(1,len(lis)):\n",
        "  val.append(abs(lis[i]-lis[i-1]))\n",
        "\n",
        "  #b\n",
        "# Filter rows where 'title_field' is 'Occupied Housing Units'\n",
        "df_occupied=df[df['title_field'] == 'Occupied Housing Units']\n",
        "df_vacant=df[df['title_field'] == 'Vacant Housing Units']\n",
        "# Loop through the DataFrame\n",
        "for i in range(len(df_occupied)):\n",
        "\n",
        "  occupiedcount = df_occupied.iloc[i]['value']\n",
        "  vacantcount=df_vacant.iloc[i]['value']\n",
        "   # Calculate total count\n",
        "  total= occupiedcount+vacantcount\n",
        "   # Calculate percentages\n",
        "  operc=(occupiedcount / total) * 100\n",
        "  vperc=(vacantcount / total) * 100\n",
        "   # Print the results for each year\n",
        "  print(str(df_occupied.iloc[i]['year']),end=\"    \")\n",
        "  print(str(round(vperc))+\"%\"+\"    \"+str(round(operc))+\"%\")\n",
        "\n",
        "  #c\n",
        "# Loop through the DataFrame\n",
        "for i in range(len(df_occupied)):\n",
        "  print(\"Vacant Housing Units      \"+str(df_vacant.iloc[i]['year'])+\"     \"+str(df_vacant.iloc[i]['value']))\n",
        "  print(\"Occupied Housing Units    \"+str(df_occupied.iloc[i]['year'])+\"     \"+str(df_occupied.iloc[i]['value']))\n",
        "\n",
        "  #d\n",
        "# Filter rows where 'title_field' is 'Total Housing Units\n",
        "total_data=df[df['title_field'] == 'Total Housing Units']\n",
        "# Group by 'year' and sum the 'value' column for each year\n",
        "data = total_data.groupby('year')['value'].sum()\n",
        "# Print the total housing units for each year\n",
        "print(data)\n",
        "# Calculate the harmonic mean\n",
        "harmonic_mean = len(data) / sum(1 / data)\n",
        "print(harmonic_mean)"
      ]
    },
    {
      "cell_type": "markdown",
      "metadata": {
        "id": "q8BFCvWp32cf"
      },
      "source": [
        "# Mandatory Question\n",
        "\n",
        "Provide your thoughts on the assignment. What did you find challenging, and what aspects did you enjoy? Your opinion on the provided time to complete the assignment. Share any suggestions for improvement. Your feedback will be valuable for enhancing the learning experience."
      ]
    },
    {
      "cell_type": "code",
      "execution_count": null,
      "metadata": {
        "id": "_e557s2w4BpK"
      },
      "outputs": [],
      "source": [
        "The final question in this assignment was the most challenging for me to answer out of all of the questions because of NLP concepts and tokenization.But doing this assignment helped me to gain knowledge and explore the code."
      ]
    }
  ],
  "metadata": {
    "colab": {
      "provenance": []
    },
    "kernelspec": {
      "display_name": "Python 3 (ipykernel)",
      "language": "python",
      "name": "python3"
    },
    "language_info": {
      "codemirror_mode": {
        "name": "ipython",
        "version": 3
      },
      "file_extension": ".py",
      "mimetype": "text/x-python",
      "name": "python",
      "nbconvert_exporter": "python",
      "pygments_lexer": "ipython3",
      "version": "3.9.12"
    }
  },
  "nbformat": 4,
  "nbformat_minor": 0
}